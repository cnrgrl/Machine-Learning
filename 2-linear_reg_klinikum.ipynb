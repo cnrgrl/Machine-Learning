{
 "cells": [
  {
   "cell_type": "markdown",
   "metadata": {},
   "source": [
    "#### Fill Null Values in GEstaltung Sterne with Linear Regression"
   ]
  },
  {
   "cell_type": "code",
   "execution_count": 2,
   "metadata": {},
   "outputs": [],
   "source": [
    "import pandas as pd\n",
    "import matplotlib.pyplot as plt\n",
    "import pandas as pd\n",
    "import pylab as pl\n",
    "import numpy as np\n",
    "import math\n",
    "%matplotlib inline"
   ]
  },
  {
   "cell_type": "code",
   "execution_count": 3,
   "metadata": {},
   "outputs": [],
   "source": [
    "df = pd.read_csv('../csv/merged_all.csv')\n",
    "df.reset_index(drop=True, inplace=True)"
   ]
  },
  {
   "cell_type": "code",
   "execution_count": 3,
   "metadata": {},
   "outputs": [
    {
     "data": {
      "text/plain": [
       "(3005, 12)"
      ]
     },
     "execution_count": 3,
     "metadata": {},
     "output_type": "execute_result"
    }
   ],
   "source": [
    "df.shape"
   ]
  },
  {
   "cell_type": "code",
   "execution_count": 4,
   "metadata": {},
   "outputs": [
    {
     "name": "stdout",
     "output_type": "stream",
     "text": [
      "<class 'pandas.core.frame.DataFrame'>\n",
      "RangeIndex: 3005 entries, 0 to 3004\n",
      "Data columns (total 12 columns):\n",
      " #   Column               Non-Null Count  Dtype  \n",
      "---  ------               --------------  -----  \n",
      " 0   Bewertung_ID         3005 non-null   int64  \n",
      " 1   Klinik_ID            3005 non-null   int64  \n",
      " 2   Name_Klinik          3005 non-null   object \n",
      " 3   Fach_Bereich         3003 non-null   object \n",
      " 4   Titel                2998 non-null   object \n",
      " 5   Bewertung_Datum      3005 non-null   object \n",
      " 6   Textuelle_Bewertung  2957 non-null   object \n",
      " 7   Gesamte_Sterne       3005 non-null   int64  \n",
      " 8   Qualitaet            3005 non-null   int64  \n",
      " 9   Behandlung           3005 non-null   int64  \n",
      " 10  Verwaltung           3005 non-null   int64  \n",
      " 11  Gestaltung           1750 non-null   float64\n",
      "dtypes: float64(1), int64(6), object(5)\n",
      "memory usage: 281.8+ KB\n"
     ]
    }
   ],
   "source": [
    "df.info()"
   ]
  },
  {
   "cell_type": "code",
   "execution_count": 5,
   "metadata": {},
   "outputs": [
    {
     "data": {
      "text/plain": [
       "Bewertung_ID              0\n",
       "Klinik_ID                 0\n",
       "Name_Klinik               0\n",
       "Fach_Bereich              2\n",
       "Titel                     7\n",
       "Bewertung_Datum           0\n",
       "Textuelle_Bewertung      48\n",
       "Gesamte_Sterne            0\n",
       "Qualitaet                 0\n",
       "Behandlung                0\n",
       "Verwaltung                0\n",
       "Gestaltung             1255\n",
       "dtype: int64"
      ]
     },
     "execution_count": 5,
     "metadata": {},
     "output_type": "execute_result"
    }
   ],
   "source": [
    "df.isna().sum()"
   ]
  },
  {
   "cell_type": "markdown",
   "metadata": {},
   "source": [
    "#### Delete Null Rows of Text_Bewertung and Gestaltung"
   ]
  },
  {
   "cell_type": "code",
   "execution_count": 4,
   "metadata": {},
   "outputs": [],
   "source": [
    "df_new = df.dropna(subset=['Textuelle_Bewertung'], axis=0)"
   ]
  },
  {
   "cell_type": "code",
   "execution_count": 5,
   "metadata": {},
   "outputs": [],
   "source": [
    "df_new = df.dropna(subset=['Gestaltung'], axis=0)"
   ]
  },
  {
   "cell_type": "code",
   "execution_count": 6,
   "metadata": {},
   "outputs": [
    {
     "data": {
      "text/plain": [
       "Bewertung_ID            0\n",
       "Klinik_ID               0\n",
       "Name_Klinik             0\n",
       "Fach_Bereich            2\n",
       "Titel                   6\n",
       "Bewertung_Datum         0\n",
       "Textuelle_Bewertung    35\n",
       "Gesamte_Sterne          0\n",
       "Qualitaet               0\n",
       "Behandlung              0\n",
       "Verwaltung              0\n",
       "Gestaltung              0\n",
       "dtype: int64"
      ]
     },
     "execution_count": 6,
     "metadata": {},
     "output_type": "execute_result"
    }
   ],
   "source": [
    "df_new.isna().sum()"
   ]
  },
  {
   "cell_type": "code",
   "execution_count": 7,
   "metadata": {},
   "outputs": [
    {
     "data": {
      "text/html": [
       "<div>\n",
       "<style scoped>\n",
       "    .dataframe tbody tr th:only-of-type {\n",
       "        vertical-align: middle;\n",
       "    }\n",
       "\n",
       "    .dataframe tbody tr th {\n",
       "        vertical-align: top;\n",
       "    }\n",
       "\n",
       "    .dataframe thead th {\n",
       "        text-align: right;\n",
       "    }\n",
       "</style>\n",
       "<table border=\"1\" class=\"dataframe\">\n",
       "  <thead>\n",
       "    <tr style=\"text-align: right;\">\n",
       "      <th></th>\n",
       "      <th>Bewertung_ID</th>\n",
       "      <th>Klinik_ID</th>\n",
       "      <th>Name_Klinik</th>\n",
       "      <th>Fach_Bereich</th>\n",
       "      <th>Titel</th>\n",
       "      <th>Bewertung_Datum</th>\n",
       "      <th>Textuelle_Bewertung</th>\n",
       "      <th>Gesamte_Sterne</th>\n",
       "      <th>Qualitaet</th>\n",
       "      <th>Behandlung</th>\n",
       "      <th>Verwaltung</th>\n",
       "      <th>Gestaltung</th>\n",
       "    </tr>\n",
       "  </thead>\n",
       "  <tbody>\n",
       "    <tr>\n",
       "      <th>0</th>\n",
       "      <td>1</td>\n",
       "      <td>16</td>\n",
       "      <td>AGAPLESION EV. KLINIKUM SCHAUMBURG</td>\n",
       "      <td>Schmerztherapie</td>\n",
       "      <td>Katastrophale Zustände bei der Besucherregelung!!</td>\n",
       "      <td>20.03.2021</td>\n",
       "      <td>Ich selbst bin Patientenfürsprecherin einer Kl...</td>\n",
       "      <td>0</td>\n",
       "      <td>4</td>\n",
       "      <td>4</td>\n",
       "      <td>0</td>\n",
       "      <td>0.0</td>\n",
       "    </tr>\n",
       "    <tr>\n",
       "      <th>1</th>\n",
       "      <td>2</td>\n",
       "      <td>16</td>\n",
       "      <td>AGAPLESION EV. KLINIKUM SCHAUMBURG</td>\n",
       "      <td>Innere</td>\n",
       "      <td>Hoffentlich nie wieder</td>\n",
       "      <td>03.03.2021</td>\n",
       "      <td>Sonntag Abend in der Notaufnahme mein 14jährig...</td>\n",
       "      <td>0</td>\n",
       "      <td>0</td>\n",
       "      <td>0</td>\n",
       "      <td>0</td>\n",
       "      <td>4.0</td>\n",
       "    </tr>\n",
       "    <tr>\n",
       "      <th>2</th>\n",
       "      <td>3</td>\n",
       "      <td>16</td>\n",
       "      <td>AGAPLESION EV. KLINIKUM SCHAUMBURG</td>\n",
       "      <td>Handchirurgie</td>\n",
       "      <td>Hand OP</td>\n",
       "      <td>18.02.2021</td>\n",
       "      <td>Ich möchte mich ganz herzlich bedanken bei den...</td>\n",
       "      <td>6</td>\n",
       "      <td>6</td>\n",
       "      <td>6</td>\n",
       "      <td>6</td>\n",
       "      <td>6.0</td>\n",
       "    </tr>\n",
       "    <tr>\n",
       "      <th>3</th>\n",
       "      <td>4</td>\n",
       "      <td>16</td>\n",
       "      <td>AGAPLESION EV. KLINIKUM SCHAUMBURG</td>\n",
       "      <td>Frauen</td>\n",
       "      <td>Sehr gute Behandlung</td>\n",
       "      <td>10.02.2021</td>\n",
       "      <td>Also ich kann die Station N 21 defenitiv nur l...</td>\n",
       "      <td>6</td>\n",
       "      <td>6</td>\n",
       "      <td>6</td>\n",
       "      <td>6</td>\n",
       "      <td>6.0</td>\n",
       "    </tr>\n",
       "    <tr>\n",
       "      <th>4</th>\n",
       "      <td>5</td>\n",
       "      <td>16</td>\n",
       "      <td>AGAPLESION EV. KLINIKUM SCHAUMBURG</td>\n",
       "      <td>Entbindung</td>\n",
       "      <td>Unbeschreibliche Schwestern</td>\n",
       "      <td>31.01.2021</td>\n",
       "      <td>Hallo ich bedanke mich sehr sehr für diesen Em...</td>\n",
       "      <td>6</td>\n",
       "      <td>6</td>\n",
       "      <td>6</td>\n",
       "      <td>6</td>\n",
       "      <td>6.0</td>\n",
       "    </tr>\n",
       "  </tbody>\n",
       "</table>\n",
       "</div>"
      ],
      "text/plain": [
       "   Bewertung_ID  Klinik_ID                         Name_Klinik  \\\n",
       "0             1         16  AGAPLESION EV. KLINIKUM SCHAUMBURG   \n",
       "1             2         16  AGAPLESION EV. KLINIKUM SCHAUMBURG   \n",
       "2             3         16  AGAPLESION EV. KLINIKUM SCHAUMBURG   \n",
       "3             4         16  AGAPLESION EV. KLINIKUM SCHAUMBURG   \n",
       "4             5         16  AGAPLESION EV. KLINIKUM SCHAUMBURG   \n",
       "\n",
       "      Fach_Bereich                                              Titel  \\\n",
       "0  Schmerztherapie  Katastrophale Zustände bei der Besucherregelung!!   \n",
       "1           Innere                             Hoffentlich nie wieder   \n",
       "2    Handchirurgie                                            Hand OP   \n",
       "3           Frauen                               Sehr gute Behandlung   \n",
       "4       Entbindung                        Unbeschreibliche Schwestern   \n",
       "\n",
       "  Bewertung_Datum                                Textuelle_Bewertung  \\\n",
       "0      20.03.2021  Ich selbst bin Patientenfürsprecherin einer Kl...   \n",
       "1      03.03.2021  Sonntag Abend in der Notaufnahme mein 14jährig...   \n",
       "2      18.02.2021  Ich möchte mich ganz herzlich bedanken bei den...   \n",
       "3      10.02.2021  Also ich kann die Station N 21 defenitiv nur l...   \n",
       "4      31.01.2021  Hallo ich bedanke mich sehr sehr für diesen Em...   \n",
       "\n",
       "   Gesamte_Sterne  Qualitaet  Behandlung  Verwaltung  Gestaltung  \n",
       "0               0          4           4           0         0.0  \n",
       "1               0          0           0           0         4.0  \n",
       "2               6          6           6           6         6.0  \n",
       "3               6          6           6           6         6.0  \n",
       "4               6          6           6           6         6.0  "
      ]
     },
     "execution_count": 7,
     "metadata": {},
     "output_type": "execute_result"
    }
   ],
   "source": [
    "df_new.head()"
   ]
  },
  {
   "cell_type": "markdown",
   "metadata": {},
   "source": [
    "#### Fill Null Values in Gestaltung Sterne"
   ]
  },
  {
   "cell_type": "code",
   "execution_count": 8,
   "metadata": {},
   "outputs": [],
   "source": [
    "msk = np.random.rand(len(df_new)) < 0.8\n",
    "train = df_new[msk]\n",
    "test = df_new[~msk]"
   ]
  },
  {
   "cell_type": "markdown",
   "metadata": {
    "button": false,
    "new_sheet": false,
    "run_control": {
     "read_only": false
    }
   },
   "source": [
    "<h2 id=\"multiple_regression_model\">Multiple Regression Model</h2>\n"
   ]
  },
  {
   "cell_type": "code",
   "execution_count": 9,
   "metadata": {
    "button": false,
    "new_sheet": false,
    "run_control": {
     "read_only": false
    }
   },
   "outputs": [
    {
     "name": "stdout",
     "output_type": "stream",
     "text": [
      "Coefficients:  [[0.48131994 0.10970817 0.10970817]]\n",
      "Intercept:  [1.11756693]\n"
     ]
    }
   ],
   "source": [
    "from sklearn import linear_model\n",
    "regr = linear_model.LinearRegression()\n",
    "x = np.asanyarray(train[['Verwaltung','Behandlung','Qualitaet']])\n",
    "y = np.asanyarray(train[['Gestaltung']])\n",
    "regr.fit (x, y)\n",
    "# The coefficients\n",
    "[coef] = regr.coef_.tolist()\n",
    "[intercept] = regr.intercept_.tolist()\n",
    "print ('Coefficients: ', regr.coef_)\n",
    "print('Intercept: ', regr.intercept_)"
   ]
  },
  {
   "cell_type": "markdown",
   "metadata": {},
   "source": [
    "<h2 id=\"prediction\">Prediction</h2>\n"
   ]
  },
  {
   "cell_type": "code",
   "execution_count": 10,
   "metadata": {
    "button": false,
    "new_sheet": false,
    "run_control": {
     "read_only": false
    }
   },
   "outputs": [
    {
     "name": "stdout",
     "output_type": "stream",
     "text": [
      "Residual sum of squares: 2.14\n",
      "Variance score: 0.57\n"
     ]
    }
   ],
   "source": [
    "y_hat= regr.predict(test[['Verwaltung','Behandlung','Qualitaet']])\n",
    "x = np.asanyarray(test[['Verwaltung','Behandlung','Qualitaet']])\n",
    "y = np.asanyarray(test[['Gestaltung']])\n",
    "print(\"Residual sum of squares: %.2f\"\n",
    "      % np.mean((y_hat - y) ** 2))\n",
    "\n",
    "# Explained variance score: 1 is perfect prediction\n",
    "print('Variance score: %.2f' % regr.score(x, y))"
   ]
  },
  {
   "cell_type": "markdown",
   "metadata": {},
   "source": [
    "**explained variance regression score:**  \n",
    "If $\\\\hat{y}$ is the estimated target output, y the corresponding (correct) target output, and Var is Variance, the square of the standard deviation, then the explained variance is estimated as follow:\n",
    "\n",
    "$\\\\texttt{explainedVariance}(y, \\\\hat{y}) = 1 - \\\\frac{Var{ y - \\\\hat{y}}}{Var{y}}$  \n",
    "The best possible score is 1.0, lower values are worse.\n"
   ]
  },
  {
   "cell_type": "code",
   "execution_count": 11,
   "metadata": {},
   "outputs": [
    {
     "data": {
      "text/plain": [
       "Bewertung_ID              0\n",
       "Klinik_ID                 0\n",
       "Name_Klinik               0\n",
       "Fach_Bereich              2\n",
       "Titel                     7\n",
       "Bewertung_Datum           0\n",
       "Textuelle_Bewertung      48\n",
       "Gesamte_Sterne            0\n",
       "Qualitaet                 0\n",
       "Behandlung                0\n",
       "Verwaltung                0\n",
       "Gestaltung             1255\n",
       "dtype: int64"
      ]
     },
     "execution_count": 11,
     "metadata": {},
     "output_type": "execute_result"
    }
   ],
   "source": [
    "df.isna().sum()"
   ]
  },
  {
   "cell_type": "code",
   "execution_count": 12,
   "metadata": {},
   "outputs": [],
   "source": [
    "count = 0\n",
    "for i,a,b,c in zip(df['Gestaltung'], df['Verwaltung'], df['Behandlung'],df['Qualitaet']):\n",
    "    if math.isnan(i):\n",
    "        new_val = intercept + coef[0]*a + coef[1]*b + coef[2]*c\n",
    "        df.at[count, 'Gestaltung'] = new_val\n",
    "        #df.iloc[count]['Gestaltung'] = new_val \n",
    "        #df.iloc[count, df.columns.get_loc('Gestaltung')] = new_val\n",
    "        count +=1\n",
    "    else:\n",
    "        count += 1"
   ]
  },
  {
   "cell_type": "code",
   "execution_count": 13,
   "metadata": {},
   "outputs": [
    {
     "data": {
      "text/plain": [
       "Bewertung_ID            0\n",
       "Klinik_ID               0\n",
       "Name_Klinik             0\n",
       "Fach_Bereich            2\n",
       "Titel                   7\n",
       "Bewertung_Datum         0\n",
       "Textuelle_Bewertung    48\n",
       "Gesamte_Sterne          0\n",
       "Qualitaet               0\n",
       "Behandlung              0\n",
       "Verwaltung              0\n",
       "Gestaltung              0\n",
       "dtype: int64"
      ]
     },
     "execution_count": 13,
     "metadata": {},
     "output_type": "execute_result"
    }
   ],
   "source": [
    "df.isna().sum()"
   ]
  },
  {
   "cell_type": "code",
   "execution_count": 14,
   "metadata": {},
   "outputs": [],
   "source": [
    "df[\"Gestaltung\"] = df[\"Gestaltung\"].round(2)"
   ]
  },
  {
   "cell_type": "code",
   "execution_count": 15,
   "metadata": {},
   "outputs": [],
   "source": [
    "df.to_csv( \"../csv/merged_all_kb_updated.csv\", encoding=\"utf-8\", index=False)"
   ]
  },
  {
   "cell_type": "code",
   "execution_count": 16,
   "metadata": {},
   "outputs": [],
   "source": [
    "df.to_json(r'merged_all_kb_updated.json')"
   ]
  },
  {
   "cell_type": "code",
   "execution_count": 17,
   "metadata": {},
   "outputs": [
    {
     "data": {
      "text/html": [
       "<div>\n",
       "<style scoped>\n",
       "    .dataframe tbody tr th:only-of-type {\n",
       "        vertical-align: middle;\n",
       "    }\n",
       "\n",
       "    .dataframe tbody tr th {\n",
       "        vertical-align: top;\n",
       "    }\n",
       "\n",
       "    .dataframe thead th {\n",
       "        text-align: right;\n",
       "    }\n",
       "</style>\n",
       "<table border=\"1\" class=\"dataframe\">\n",
       "  <thead>\n",
       "    <tr style=\"text-align: right;\">\n",
       "      <th></th>\n",
       "      <th>Bewertung_ID</th>\n",
       "      <th>Klinik_ID</th>\n",
       "      <th>Name_Klinik</th>\n",
       "      <th>Fach_Bereich</th>\n",
       "      <th>Titel</th>\n",
       "      <th>Bewertung_Datum</th>\n",
       "      <th>Textuelle_Bewertung</th>\n",
       "      <th>Gesamte_Sterne</th>\n",
       "      <th>Qualitaet</th>\n",
       "      <th>Behandlung</th>\n",
       "      <th>Verwaltung</th>\n",
       "      <th>Gestaltung</th>\n",
       "    </tr>\n",
       "  </thead>\n",
       "  <tbody>\n",
       "    <tr>\n",
       "      <th>2995</th>\n",
       "      <td>68</td>\n",
       "      <td>9</td>\n",
       "      <td>Sophienklinik Hannover</td>\n",
       "      <td>Orthopädie</td>\n",
       "      <td>Meniskus-OP</td>\n",
       "      <td>18.05.2009</td>\n",
       "      <td>In der Woche vor der OP durch einen Belegarzt ...</td>\n",
       "      <td>4</td>\n",
       "      <td>4</td>\n",
       "      <td>4</td>\n",
       "      <td>4</td>\n",
       "      <td>3.90</td>\n",
       "    </tr>\n",
       "    <tr>\n",
       "      <th>2996</th>\n",
       "      <td>69</td>\n",
       "      <td>9</td>\n",
       "      <td>Sophienklinik Hannover</td>\n",
       "      <td>Chirurgie</td>\n",
       "      <td>in keinster Weise empfehlenswert</td>\n",
       "      <td>23.03.2009</td>\n",
       "      <td>Ich kam im Januar in die Sophienklinik, da mei...</td>\n",
       "      <td>0</td>\n",
       "      <td>0</td>\n",
       "      <td>0</td>\n",
       "      <td>0</td>\n",
       "      <td>1.11</td>\n",
       "    </tr>\n",
       "    <tr>\n",
       "      <th>2997</th>\n",
       "      <td>70</td>\n",
       "      <td>9</td>\n",
       "      <td>Sophienklinik Hannover</td>\n",
       "      <td>Kardiologie</td>\n",
       "      <td>Kardiologischer Befund</td>\n",
       "      <td>01.02.2009</td>\n",
       "      <td>Das Klinikgebäude ist innen und außen in einem...</td>\n",
       "      <td>2</td>\n",
       "      <td>4</td>\n",
       "      <td>4</td>\n",
       "      <td>4</td>\n",
       "      <td>3.90</td>\n",
       "    </tr>\n",
       "    <tr>\n",
       "      <th>2998</th>\n",
       "      <td>71</td>\n",
       "      <td>9</td>\n",
       "      <td>Sophienklinik Hannover</td>\n",
       "      <td>Chirurgie</td>\n",
       "      <td>Gute Erfahrungen!!!</td>\n",
       "      <td>29.03.2008</td>\n",
       "      <td>Aufgenommen (ambulant) wurde ich morgens nach ...</td>\n",
       "      <td>4</td>\n",
       "      <td>6</td>\n",
       "      <td>6</td>\n",
       "      <td>4</td>\n",
       "      <td>4.31</td>\n",
       "    </tr>\n",
       "    <tr>\n",
       "      <th>2999</th>\n",
       "      <td>72</td>\n",
       "      <td>9</td>\n",
       "      <td>Sophienklinik Hannover</td>\n",
       "      <td>Innere</td>\n",
       "      <td>Sophien-Klinik eher Mittelmaß</td>\n",
       "      <td>04.10.2007</td>\n",
       "      <td>Das Essen war mal gut mal schlecht.\\nDas Perso...</td>\n",
       "      <td>2</td>\n",
       "      <td>4</td>\n",
       "      <td>4</td>\n",
       "      <td>2</td>\n",
       "      <td>2.91</td>\n",
       "    </tr>\n",
       "    <tr>\n",
       "      <th>3000</th>\n",
       "      <td>73</td>\n",
       "      <td>9</td>\n",
       "      <td>Sophienklinik Hannover</td>\n",
       "      <td>Chirurgie</td>\n",
       "      <td>dilettantenstadl</td>\n",
       "      <td>19.08.2007</td>\n",
       "      <td>das 60´er jahre- flair wirkt nicht einladend. ...</td>\n",
       "      <td>0</td>\n",
       "      <td>2</td>\n",
       "      <td>2</td>\n",
       "      <td>0</td>\n",
       "      <td>1.52</td>\n",
       "    </tr>\n",
       "    <tr>\n",
       "      <th>3001</th>\n",
       "      <td>74</td>\n",
       "      <td>9</td>\n",
       "      <td>Sophienklinik Hannover</td>\n",
       "      <td>Innere</td>\n",
       "      <td>Als Kassenpatientin auch hilfreich, aber irgen...</td>\n",
       "      <td>11.08.2007</td>\n",
       "      <td>Als Kassenpatientin in einem 5 Bett Zimmer, wa...</td>\n",
       "      <td>2</td>\n",
       "      <td>2</td>\n",
       "      <td>2</td>\n",
       "      <td>2</td>\n",
       "      <td>2.50</td>\n",
       "    </tr>\n",
       "    <tr>\n",
       "      <th>3002</th>\n",
       "      <td>75</td>\n",
       "      <td>9</td>\n",
       "      <td>Sophienklinik Hannover</td>\n",
       "      <td>Innere</td>\n",
       "      <td>Für Privatpatienten sicher gut geeignet! Kasse...</td>\n",
       "      <td>11.08.2007</td>\n",
       "      <td>Ich war da mal als Privatpatientin, es ist abe...</td>\n",
       "      <td>4</td>\n",
       "      <td>4</td>\n",
       "      <td>4</td>\n",
       "      <td>4</td>\n",
       "      <td>3.90</td>\n",
       "    </tr>\n",
       "    <tr>\n",
       "      <th>3003</th>\n",
       "      <td>76</td>\n",
       "      <td>9</td>\n",
       "      <td>Sophienklinik Hannover</td>\n",
       "      <td>Handchirurgie</td>\n",
       "      <td>Die schlechteste Klinik in Hannover überhaupt!!!</td>\n",
       "      <td>08.02.2007</td>\n",
       "      <td>NaN</td>\n",
       "      <td>0</td>\n",
       "      <td>0</td>\n",
       "      <td>0</td>\n",
       "      <td>0</td>\n",
       "      <td>1.11</td>\n",
       "    </tr>\n",
       "    <tr>\n",
       "      <th>3004</th>\n",
       "      <td>77</td>\n",
       "      <td>9</td>\n",
       "      <td>Sophienklinik Hannover</td>\n",
       "      <td>Gastrologie</td>\n",
       "      <td>es geht also auch anders!</td>\n",
       "      <td>29.04.2006</td>\n",
       "      <td>Wir waren angenehm überrascht von dem Tempo, d...</td>\n",
       "      <td>6</td>\n",
       "      <td>4</td>\n",
       "      <td>4</td>\n",
       "      <td>6</td>\n",
       "      <td>4.89</td>\n",
       "    </tr>\n",
       "  </tbody>\n",
       "</table>\n",
       "</div>"
      ],
      "text/plain": [
       "      Bewertung_ID  Klinik_ID             Name_Klinik   Fach_Bereich  \\\n",
       "2995            68          9  Sophienklinik Hannover     Orthopädie   \n",
       "2996            69          9  Sophienklinik Hannover      Chirurgie   \n",
       "2997            70          9  Sophienklinik Hannover    Kardiologie   \n",
       "2998            71          9  Sophienklinik Hannover      Chirurgie   \n",
       "2999            72          9  Sophienklinik Hannover         Innere   \n",
       "3000            73          9  Sophienklinik Hannover      Chirurgie   \n",
       "3001            74          9  Sophienklinik Hannover         Innere   \n",
       "3002            75          9  Sophienklinik Hannover         Innere   \n",
       "3003            76          9  Sophienklinik Hannover  Handchirurgie   \n",
       "3004            77          9  Sophienklinik Hannover    Gastrologie   \n",
       "\n",
       "                                                  Titel Bewertung_Datum  \\\n",
       "2995                                        Meniskus-OP      18.05.2009   \n",
       "2996                   in keinster Weise empfehlenswert      23.03.2009   \n",
       "2997                             Kardiologischer Befund      01.02.2009   \n",
       "2998                                Gute Erfahrungen!!!      29.03.2008   \n",
       "2999                      Sophien-Klinik eher Mittelmaß      04.10.2007   \n",
       "3000                                   dilettantenstadl      19.08.2007   \n",
       "3001  Als Kassenpatientin auch hilfreich, aber irgen...      11.08.2007   \n",
       "3002  Für Privatpatienten sicher gut geeignet! Kasse...      11.08.2007   \n",
       "3003   Die schlechteste Klinik in Hannover überhaupt!!!      08.02.2007   \n",
       "3004                          es geht also auch anders!      29.04.2006   \n",
       "\n",
       "                                    Textuelle_Bewertung  Gesamte_Sterne  \\\n",
       "2995  In der Woche vor der OP durch einen Belegarzt ...               4   \n",
       "2996  Ich kam im Januar in die Sophienklinik, da mei...               0   \n",
       "2997  Das Klinikgebäude ist innen und außen in einem...               2   \n",
       "2998  Aufgenommen (ambulant) wurde ich morgens nach ...               4   \n",
       "2999  Das Essen war mal gut mal schlecht.\\nDas Perso...               2   \n",
       "3000  das 60´er jahre- flair wirkt nicht einladend. ...               0   \n",
       "3001  Als Kassenpatientin in einem 5 Bett Zimmer, wa...               2   \n",
       "3002  Ich war da mal als Privatpatientin, es ist abe...               4   \n",
       "3003                                                NaN               0   \n",
       "3004  Wir waren angenehm überrascht von dem Tempo, d...               6   \n",
       "\n",
       "      Qualitaet  Behandlung  Verwaltung  Gestaltung  \n",
       "2995          4           4           4        3.90  \n",
       "2996          0           0           0        1.11  \n",
       "2997          4           4           4        3.90  \n",
       "2998          6           6           4        4.31  \n",
       "2999          4           4           2        2.91  \n",
       "3000          2           2           0        1.52  \n",
       "3001          2           2           2        2.50  \n",
       "3002          4           4           4        3.90  \n",
       "3003          0           0           0        1.11  \n",
       "3004          4           4           6        4.89  "
      ]
     },
     "execution_count": 17,
     "metadata": {},
     "output_type": "execute_result"
    }
   ],
   "source": [
    "df.tail(10)"
   ]
  },
  {
   "cell_type": "markdown",
   "metadata": {},
   "source": [
    "#### From Teilsterne Prediction of the Gesamtsterne"
   ]
  },
  {
   "cell_type": "code",
   "execution_count": 18,
   "metadata": {},
   "outputs": [
    {
     "name": "stdout",
     "output_type": "stream",
     "text": [
      "Coefficients:  [[0.27816324 0.27816324 0.34292903 0.21626747]]\n",
      "Intercept:  [-0.61566642]\n"
     ]
    }
   ],
   "source": [
    "# write your code here\n",
    "# It has worse accuracy\n",
    "regr2 = linear_model.LinearRegression()\n",
    "x = np.asanyarray(train[['Qualitaet','Behandlung','Verwaltung', 'Gestaltung']])\n",
    "y = np.asanyarray(train[['Gesamte_Sterne']])\n",
    "regr2.fit (x, y)\n",
    "# The coefficients\n",
    "print ('Coefficients: ', regr2.coef_)\n",
    "print('Intercept: ', regr2.intercept_)\n",
    "[coef] = regr2.coef_.tolist()\n",
    "[intercept] = regr2.intercept_.tolist()"
   ]
  },
  {
   "cell_type": "code",
   "execution_count": 19,
   "metadata": {},
   "outputs": [
    {
     "name": "stdout",
     "output_type": "stream",
     "text": [
      "Residual sum of squares: 0.92\n",
      "Variance score: 0.87\n"
     ]
    }
   ],
   "source": [
    "y_hat= regr2.predict(test[['Qualitaet','Behandlung','Verwaltung', 'Gestaltung']])\n",
    "x = np.asanyarray(test[['Qualitaet','Behandlung','Verwaltung', 'Gestaltung']])\n",
    "y = np.asanyarray(test[['Gesamte_Sterne']])\n",
    "print(\"Residual sum of squares: %.2f\"\n",
    "      % np.mean((y_hat - y) ** 2))\n",
    "\n",
    "# Explained variance score: 1 is perfect prediction\n",
    "print('Variance score: %.2f' % regr2.score(x, y))"
   ]
  },
  {
   "cell_type": "code",
   "execution_count": 20,
   "metadata": {},
   "outputs": [
    {
     "data": {
      "text/plain": [
       "Bewertung_ID            0\n",
       "Klinik_ID               0\n",
       "Name_Klinik             0\n",
       "Fach_Bereich            2\n",
       "Titel                   7\n",
       "Bewertung_Datum         0\n",
       "Textuelle_Bewertung    48\n",
       "Gesamte_Sterne          0\n",
       "Qualitaet               0\n",
       "Behandlung              0\n",
       "Verwaltung              0\n",
       "Gestaltung              0\n",
       "dtype: int64"
      ]
     },
     "execution_count": 20,
     "metadata": {},
     "output_type": "execute_result"
    }
   ],
   "source": [
    "df.isna().sum()"
   ]
  },
  {
   "cell_type": "code",
   "execution_count": 21,
   "metadata": {},
   "outputs": [],
   "source": [
    "count = 0\n",
    "for i,a,b,c,d in zip(df['Gesamte_Sterne'], df['Qualitaet'], df['Behandlung'], df['Verwaltung'],df['Gestaltung']):\n",
    "    new_val = intercept + coef[0]*a + coef[1]*b + coef[2]*c + coef[3]*d\n",
    "    if(new_val >= 6):\n",
    "        new_val = 6\n",
    "    df.at[count, 'Gesamte_Sterne_Predict'] = new_val\n",
    "    #df.iloc[count]['Gestaltung'] = new_val \n",
    "    #df.iloc[count, df.columns.get_loc('Gestaltung')] = new_val\n",
    "    count +=1"
   ]
  },
  {
   "cell_type": "code",
   "execution_count": 22,
   "metadata": {},
   "outputs": [
    {
     "data": {
      "text/plain": [
       "Bewertung_ID               0\n",
       "Klinik_ID                  0\n",
       "Name_Klinik                0\n",
       "Fach_Bereich               2\n",
       "Titel                      7\n",
       "Bewertung_Datum            0\n",
       "Textuelle_Bewertung       48\n",
       "Gesamte_Sterne             0\n",
       "Qualitaet                  0\n",
       "Behandlung                 0\n",
       "Verwaltung                 0\n",
       "Gestaltung                 0\n",
       "Gesamte_Sterne_Predict     0\n",
       "dtype: int64"
      ]
     },
     "execution_count": 22,
     "metadata": {},
     "output_type": "execute_result"
    }
   ],
   "source": [
    "df.isna().sum()"
   ]
  },
  {
   "cell_type": "code",
   "execution_count": 23,
   "metadata": {},
   "outputs": [],
   "source": [
    "df[\"Gesamte_Sterne_Predict\"] = df[\"Gesamte_Sterne_Predict\"].round(2)"
   ]
  },
  {
   "cell_type": "code",
   "execution_count": 1,
   "metadata": {},
   "outputs": [
    {
     "ename": "NameError",
     "evalue": "name 'df' is not defined",
     "output_type": "error",
     "traceback": [
      "\u001b[1;31m---------------------------------------------------------------------------\u001b[0m",
      "\u001b[1;31mNameError\u001b[0m                                 Traceback (most recent call last)",
      "\u001b[1;32m<ipython-input-1-05240dc4a143>\u001b[0m in \u001b[0;36m<module>\u001b[1;34m\u001b[0m\n\u001b[1;32m----> 1\u001b[1;33m \u001b[0mdf\u001b[0m\u001b[1;33m.\u001b[0m\u001b[0mhead\u001b[0m\u001b[1;33m(\u001b[0m\u001b[1;36m1000\u001b[0m\u001b[1;33m)\u001b[0m\u001b[1;33m\u001b[0m\u001b[1;33m\u001b[0m\u001b[0m\n\u001b[0m",
      "\u001b[1;31mNameError\u001b[0m: name 'df' is not defined"
     ]
    }
   ],
   "source": [
    "df.head()"
   ]
  },
  {
   "cell_type": "markdown",
   "metadata": {},
   "source": [
    "## Calculation of Gesamte Sterne for Each Hospitals"
   ]
  },
  {
   "cell_type": "markdown",
   "metadata": {},
   "source": [
    "#### Values in Klinikumbewertung.de"
   ]
  },
  {
   "cell_type": "code",
   "execution_count": 32,
   "metadata": {},
   "outputs": [],
   "source": [
    "dikt_klinik={}\n",
    "for i in df['Klinik_ID'].unique():\n",
    "    sent=[]\n",
    "    for j in df.loc[df['Klinik_ID']==i]['Gesamte_Sterne']:\n",
    "        sent.append(j)\n",
    "    dikt_klinik[i]=sum(sent)/len(sent)"
   ]
  },
  {
   "cell_type": "code",
   "execution_count": 33,
   "metadata": {},
   "outputs": [
    {
     "name": "stdout",
     "output_type": "stream",
     "text": [
      "(16, 4.065934959349592)\n",
      "(14, 2.336666666666667)\n",
      "(7, 4.294390243902428)\n",
      "(4, 1.7634117647058822)\n",
      "(5, 3.2006372549019595)\n",
      "(1, 3.919999999999999)\n",
      "(8, 4.334326530612233)\n",
      "(6, 3.07502857142857)\n",
      "(17, 3.410491803278689)\n",
      "(15, 3.4467839195979826)\n",
      "(3, 4.538644067796607)\n",
      "(19, 4.473707317073161)\n",
      "(20, 3.040434782608695)\n",
      "(13, 3.7155844155844187)\n",
      "(12, 4.207624999999999)\n",
      "(21, 3.803796296296295)\n",
      "(2, 4.637142857142858)\n",
      "(24, 2.9544117647058825)\n",
      "(23, 4.428837209302327)\n",
      "(10, 3.522727272727272)\n",
      "(11, 3.3980000000000015)\n",
      "(22, 2.9011594202898525)\n",
      "(18, 3.3368421052631585)\n",
      "(9, 3.835844155844157)\n"
     ]
    }
   ],
   "source": [
    "for key in dikt.items():\n",
    "    print(key)"
   ]
  },
  {
   "cell_type": "markdown",
   "metadata": {},
   "source": [
    "#### Our Prediction with Multiple Linear Regression"
   ]
  },
  {
   "cell_type": "code",
   "execution_count": 34,
   "metadata": {},
   "outputs": [],
   "source": [
    "dikt_prediction={}\n",
    "for i in df['Klinik_ID'].unique():\n",
    "    sent=[]\n",
    "    for j in df.loc[df['Klinik_ID']==i]['Gesamte_Sterne_Predict']:\n",
    "        sent.append(j)\n",
    "    dikt_prediction[i]=sum(sent)/len(sent)"
   ]
  },
  {
   "cell_type": "code",
   "execution_count": 35,
   "metadata": {},
   "outputs": [
    {
     "name": "stdout",
     "output_type": "stream",
     "text": [
      "(16, 4.065934959349592)\n",
      "(14, 2.336666666666667)\n",
      "(7, 4.294390243902428)\n",
      "(4, 1.7634117647058822)\n",
      "(5, 3.2006372549019595)\n",
      "(1, 3.919999999999999)\n",
      "(8, 4.334326530612233)\n",
      "(6, 3.07502857142857)\n",
      "(17, 3.410491803278689)\n",
      "(15, 3.4467839195979826)\n",
      "(3, 4.538644067796607)\n",
      "(19, 4.473707317073161)\n",
      "(20, 3.040434782608695)\n",
      "(13, 3.7155844155844187)\n",
      "(12, 4.207624999999999)\n",
      "(21, 3.803796296296295)\n",
      "(2, 4.637142857142858)\n",
      "(24, 2.9544117647058825)\n",
      "(23, 4.428837209302327)\n",
      "(10, 3.522727272727272)\n",
      "(11, 3.3980000000000015)\n",
      "(22, 2.9011594202898525)\n",
      "(18, 3.3368421052631585)\n",
      "(9, 3.835844155844157)\n"
     ]
    }
   ],
   "source": [
    "for key in dikt.items():\n",
    "    print(key)"
   ]
  },
  {
   "cell_type": "code",
   "execution_count": null,
   "metadata": {},
   "outputs": [],
   "source": []
  },
  {
   "cell_type": "markdown",
   "metadata": {},
   "source": [
    "#### Merge All Gesamtsterne Means in a Dataframe"
   ]
  },
  {
   "cell_type": "code",
   "execution_count": 36,
   "metadata": {},
   "outputs": [],
   "source": [
    "def make_df_from_dic(dic, column_name):\n",
    "    return pd.DataFrame(list(dic.items()),columns = ['Klinik_ID',column_name]) "
   ]
  },
  {
   "cell_type": "code",
   "execution_count": 37,
   "metadata": {},
   "outputs": [],
   "source": [
    "df_prediction = make_df_from_dic(dikt_prediction,\"Prediction\")"
   ]
  },
  {
   "cell_type": "code",
   "execution_count": 38,
   "metadata": {},
   "outputs": [],
   "source": [
    "df_klinikum = make_df_from_dic(dikt_klinik,\"Klinikumbew_Gesamt\")"
   ]
  },
  {
   "cell_type": "code",
   "execution_count": 40,
   "metadata": {},
   "outputs": [],
   "source": [
    "df_merge = pd.concat([df_prediction.set_index('Klinik_ID'),df_klinikum.set_index('Klinik_ID')], axis=1, join='inner').sort_values('Klinik_ID', ascending = True).reset_index()"
   ]
  },
  {
   "cell_type": "raw",
   "metadata": {},
   "source": [
    "df_merge = df_different.merge(df_mean_withnull, on='Klinik_ID', how='inner')"
   ]
  },
  {
   "cell_type": "code",
   "execution_count": 41,
   "metadata": {},
   "outputs": [],
   "source": [
    "result_list = []\n",
    "for x,y in zip(df_merge[\"Prediction\"], df_merge[\"Klinikumbew_Gesamt\"]):\n",
    "    result = x/y\n",
    "    if result >1:\n",
    "        result = 1/result   \n",
    "    result_list.append(((result)*100))\n",
    "df_merge[\"Accuracy\"] =  result_list   "
   ]
  },
  {
   "cell_type": "code",
   "execution_count": 42,
   "metadata": {},
   "outputs": [
    {
     "data": {
      "text/html": [
       "<div>\n",
       "<style scoped>\n",
       "    .dataframe tbody tr th:only-of-type {\n",
       "        vertical-align: middle;\n",
       "    }\n",
       "\n",
       "    .dataframe tbody tr th {\n",
       "        vertical-align: top;\n",
       "    }\n",
       "\n",
       "    .dataframe thead th {\n",
       "        text-align: right;\n",
       "    }\n",
       "</style>\n",
       "<table border=\"1\" class=\"dataframe\">\n",
       "  <thead>\n",
       "    <tr style=\"text-align: right;\">\n",
       "      <th></th>\n",
       "      <th>Klinik_ID</th>\n",
       "      <th>Prediction</th>\n",
       "      <th>Klinikumbew_Gesamt</th>\n",
       "      <th>Accuracy</th>\n",
       "    </tr>\n",
       "  </thead>\n",
       "  <tbody>\n",
       "    <tr>\n",
       "      <th>0</th>\n",
       "      <td>1</td>\n",
       "      <td>3.92</td>\n",
       "      <td>4.26</td>\n",
       "      <td>92.00</td>\n",
       "    </tr>\n",
       "    <tr>\n",
       "      <th>1</th>\n",
       "      <td>2</td>\n",
       "      <td>4.64</td>\n",
       "      <td>4.80</td>\n",
       "      <td>96.61</td>\n",
       "    </tr>\n",
       "    <tr>\n",
       "      <th>2</th>\n",
       "      <td>3</td>\n",
       "      <td>4.54</td>\n",
       "      <td>4.68</td>\n",
       "      <td>97.02</td>\n",
       "    </tr>\n",
       "    <tr>\n",
       "      <th>3</th>\n",
       "      <td>4</td>\n",
       "      <td>1.76</td>\n",
       "      <td>1.72</td>\n",
       "      <td>97.40</td>\n",
       "    </tr>\n",
       "    <tr>\n",
       "      <th>4</th>\n",
       "      <td>5</td>\n",
       "      <td>3.20</td>\n",
       "      <td>3.11</td>\n",
       "      <td>97.10</td>\n",
       "    </tr>\n",
       "    <tr>\n",
       "      <th>5</th>\n",
       "      <td>6</td>\n",
       "      <td>3.08</td>\n",
       "      <td>3.05</td>\n",
       "      <td>99.23</td>\n",
       "    </tr>\n",
       "    <tr>\n",
       "      <th>6</th>\n",
       "      <td>7</td>\n",
       "      <td>4.29</td>\n",
       "      <td>4.43</td>\n",
       "      <td>97.01</td>\n",
       "    </tr>\n",
       "    <tr>\n",
       "      <th>7</th>\n",
       "      <td>8</td>\n",
       "      <td>4.33</td>\n",
       "      <td>4.38</td>\n",
       "      <td>98.87</td>\n",
       "    </tr>\n",
       "    <tr>\n",
       "      <th>8</th>\n",
       "      <td>9</td>\n",
       "      <td>3.84</td>\n",
       "      <td>3.64</td>\n",
       "      <td>94.80</td>\n",
       "    </tr>\n",
       "    <tr>\n",
       "      <th>9</th>\n",
       "      <td>10</td>\n",
       "      <td>3.52</td>\n",
       "      <td>3.58</td>\n",
       "      <td>98.52</td>\n",
       "    </tr>\n",
       "    <tr>\n",
       "      <th>10</th>\n",
       "      <td>11</td>\n",
       "      <td>3.40</td>\n",
       "      <td>3.24</td>\n",
       "      <td>95.35</td>\n",
       "    </tr>\n",
       "    <tr>\n",
       "      <th>11</th>\n",
       "      <td>12</td>\n",
       "      <td>4.21</td>\n",
       "      <td>4.42</td>\n",
       "      <td>95.09</td>\n",
       "    </tr>\n",
       "    <tr>\n",
       "      <th>12</th>\n",
       "      <td>13</td>\n",
       "      <td>3.72</td>\n",
       "      <td>3.65</td>\n",
       "      <td>98.22</td>\n",
       "    </tr>\n",
       "    <tr>\n",
       "      <th>13</th>\n",
       "      <td>14</td>\n",
       "      <td>2.34</td>\n",
       "      <td>2.00</td>\n",
       "      <td>85.59</td>\n",
       "    </tr>\n",
       "    <tr>\n",
       "      <th>14</th>\n",
       "      <td>15</td>\n",
       "      <td>3.45</td>\n",
       "      <td>3.35</td>\n",
       "      <td>97.10</td>\n",
       "    </tr>\n",
       "    <tr>\n",
       "      <th>15</th>\n",
       "      <td>16</td>\n",
       "      <td>4.07</td>\n",
       "      <td>4.05</td>\n",
       "      <td>99.58</td>\n",
       "    </tr>\n",
       "    <tr>\n",
       "      <th>16</th>\n",
       "      <td>17</td>\n",
       "      <td>3.41</td>\n",
       "      <td>3.43</td>\n",
       "      <td>99.54</td>\n",
       "    </tr>\n",
       "    <tr>\n",
       "      <th>17</th>\n",
       "      <td>18</td>\n",
       "      <td>3.34</td>\n",
       "      <td>3.58</td>\n",
       "      <td>93.24</td>\n",
       "    </tr>\n",
       "    <tr>\n",
       "      <th>18</th>\n",
       "      <td>19</td>\n",
       "      <td>4.47</td>\n",
       "      <td>4.67</td>\n",
       "      <td>95.73</td>\n",
       "    </tr>\n",
       "    <tr>\n",
       "      <th>19</th>\n",
       "      <td>20</td>\n",
       "      <td>3.04</td>\n",
       "      <td>2.94</td>\n",
       "      <td>96.67</td>\n",
       "    </tr>\n",
       "    <tr>\n",
       "      <th>20</th>\n",
       "      <td>21</td>\n",
       "      <td>3.80</td>\n",
       "      <td>3.63</td>\n",
       "      <td>95.42</td>\n",
       "    </tr>\n",
       "    <tr>\n",
       "      <th>21</th>\n",
       "      <td>22</td>\n",
       "      <td>2.90</td>\n",
       "      <td>3.04</td>\n",
       "      <td>95.32</td>\n",
       "    </tr>\n",
       "    <tr>\n",
       "      <th>22</th>\n",
       "      <td>23</td>\n",
       "      <td>4.43</td>\n",
       "      <td>4.60</td>\n",
       "      <td>96.18</td>\n",
       "    </tr>\n",
       "    <tr>\n",
       "      <th>23</th>\n",
       "      <td>24</td>\n",
       "      <td>2.95</td>\n",
       "      <td>2.71</td>\n",
       "      <td>91.59</td>\n",
       "    </tr>\n",
       "  </tbody>\n",
       "</table>\n",
       "</div>"
      ],
      "text/plain": [
       "    Klinik_ID  Prediction  Klinikumbew_Gesamt  Accuracy\n",
       "0           1        3.92                4.26     92.00\n",
       "1           2        4.64                4.80     96.61\n",
       "2           3        4.54                4.68     97.02\n",
       "3           4        1.76                1.72     97.40\n",
       "4           5        3.20                3.11     97.10\n",
       "5           6        3.08                3.05     99.23\n",
       "6           7        4.29                4.43     97.01\n",
       "7           8        4.33                4.38     98.87\n",
       "8           9        3.84                3.64     94.80\n",
       "9          10        3.52                3.58     98.52\n",
       "10         11        3.40                3.24     95.35\n",
       "11         12        4.21                4.42     95.09\n",
       "12         13        3.72                3.65     98.22\n",
       "13         14        2.34                2.00     85.59\n",
       "14         15        3.45                3.35     97.10\n",
       "15         16        4.07                4.05     99.58\n",
       "16         17        3.41                3.43     99.54\n",
       "17         18        3.34                3.58     93.24\n",
       "18         19        4.47                4.67     95.73\n",
       "19         20        3.04                2.94     96.67\n",
       "20         21        3.80                3.63     95.42\n",
       "21         22        2.90                3.04     95.32\n",
       "22         23        4.43                4.60     96.18\n",
       "23         24        2.95                2.71     91.59"
      ]
     },
     "execution_count": 42,
     "metadata": {},
     "output_type": "execute_result"
    }
   ],
   "source": [
    "df_merge[\"Prediction\"] = df_merge[\"Prediction\"].round(2)\n",
    "df_merge[\"Klinikumbew_Gesamt\"] = df_merge[\"Klinikumbew_Gesamt\"].round(2)\n",
    "df_merge[\"Accuracy\"] = df_merge[\"Accuracy\"].round(2)\n",
    "df_merge"
   ]
  },
  {
   "cell_type": "markdown",
   "metadata": {},
   "source": [
    "#### All Analysis from Df to Json to be used in WEB"
   ]
  },
  {
   "cell_type": "code",
   "execution_count": 43,
   "metadata": {},
   "outputs": [],
   "source": [
    "df_merge.to_json(r'linear_regression_klinikumbewertungen.json')"
   ]
  },
  {
   "cell_type": "code",
   "execution_count": null,
   "metadata": {},
   "outputs": [],
   "source": []
  }
 ],
 "metadata": {
  "kernelspec": {
   "display_name": "Python 3",
   "language": "python",
   "name": "python3"
  },
  "language_info": {
   "codemirror_mode": {
    "name": "ipython",
    "version": 3
   },
   "file_extension": ".py",
   "mimetype": "text/x-python",
   "name": "python",
   "nbconvert_exporter": "python",
   "pygments_lexer": "ipython3",
   "version": "3.8.5"
  }
 },
 "nbformat": 4,
 "nbformat_minor": 4
}
