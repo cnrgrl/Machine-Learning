{
 "cells": [
  {
   "cell_type": "code",
   "execution_count": 2,
   "metadata": {},
   "outputs": [
    {
     "name": "stdout",
     "output_type": "stream",
     "text": [
      "Collecting textblob-de==0.4.3\n",
      "  Downloading textblob_de-0.4.3-py2.py3-none-any.whl (468 kB)\n",
      "Collecting textblob>=0.9.0\n",
      "  Downloading textblob-0.15.3-py2.py3-none-any.whl (636 kB)\n",
      "Requirement already satisfied, skipping upgrade: nltk>=3.1 in d:\\programs\\anaconda3\\lib\\site-packages (from textblob>=0.9.0->textblob-de==0.4.3) (3.5)\n",
      "Requirement already satisfied, skipping upgrade: tqdm in d:\\programs\\anaconda3\\lib\\site-packages (from nltk>=3.1->textblob>=0.9.0->textblob-de==0.4.3) (4.50.2)\n",
      "Requirement already satisfied, skipping upgrade: joblib in d:\\programs\\anaconda3\\lib\\site-packages (from nltk>=3.1->textblob>=0.9.0->textblob-de==0.4.3) (0.17.0)\n",
      "Requirement already satisfied, skipping upgrade: click in d:\\programs\\anaconda3\\lib\\site-packages (from nltk>=3.1->textblob>=0.9.0->textblob-de==0.4.3) (7.1.2)\n",
      "Requirement already satisfied, skipping upgrade: regex in d:\\programs\\anaconda3\\lib\\site-packages (from nltk>=3.1->textblob>=0.9.0->textblob-de==0.4.3) (2020.10.15)\n",
      "Installing collected packages: textblob, textblob-de\n",
      "Successfully installed textblob-0.15.3 textblob-de-0.4.3\n"
     ]
    }
   ],
   "source": [
    "!pip install -U textblob-de==0.4.3"
   ]
  },
  {
   "cell_type": "code",
   "execution_count": 3,
   "metadata": {},
   "outputs": [
    {
     "name": "stdout",
     "output_type": "stream",
     "text": [
      "Finished.\n"
     ]
    },
    {
     "name": "stderr",
     "output_type": "stream",
     "text": [
      "[nltk_data] Downloading package brown to C:\\Users\\Emre\n",
      "[nltk_data]     Tekce\\AppData\\Roaming\\nltk_data...\n",
      "[nltk_data]   Unzipping corpora\\brown.zip.\n",
      "[nltk_data] Downloading package punkt to C:\\Users\\Emre\n",
      "[nltk_data]     Tekce\\AppData\\Roaming\\nltk_data...\n",
      "[nltk_data]   Unzipping tokenizers\\punkt.zip.\n",
      "[nltk_data] Downloading package wordnet to C:\\Users\\Emre\n",
      "[nltk_data]     Tekce\\AppData\\Roaming\\nltk_data...\n",
      "[nltk_data]   Unzipping corpora\\wordnet.zip.\n",
      "[nltk_data] Downloading package averaged_perceptron_tagger to\n",
      "[nltk_data]     C:\\Users\\Emre Tekce\\AppData\\Roaming\\nltk_data...\n",
      "[nltk_data]   Unzipping taggers\\averaged_perceptron_tagger.zip.\n",
      "[nltk_data] Downloading package conll2000 to C:\\Users\\Emre\n",
      "[nltk_data]     Tekce\\AppData\\Roaming\\nltk_data...\n",
      "[nltk_data]   Unzipping corpora\\conll2000.zip.\n",
      "[nltk_data] Downloading package movie_reviews to C:\\Users\\Emre\n",
      "[nltk_data]     Tekce\\AppData\\Roaming\\nltk_data...\n",
      "[nltk_data]   Unzipping corpora\\movie_reviews.zip.\n"
     ]
    }
   ],
   "source": [
    "!python -m textblob.download_corpora"
   ]
  },
  {
   "cell_type": "markdown",
   "metadata": {},
   "source": [
    "#### Sentiment Analysis Klinikum.de"
   ]
  },
  {
   "cell_type": "code",
   "execution_count": 1,
   "metadata": {},
   "outputs": [],
   "source": [
    "import pandas as pd\n",
    "import textblob\n",
    "from textblob_de import TextBlobDE"
   ]
  },
  {
   "cell_type": "code",
   "execution_count": 2,
   "metadata": {},
   "outputs": [],
   "source": [
    "df = pd.read_csv('../csv/merged_all.csv')\n",
    "df.reset_index(drop=True, inplace=True)\n",
    "df_temp = df.dropna(subset=['Textuelle_Bewertung'], axis=0)"
   ]
  },
  {
   "cell_type": "code",
   "execution_count": 3,
   "metadata": {},
   "outputs": [
    {
     "data": {
      "text/plain": [
       "(3005, 12)"
      ]
     },
     "execution_count": 3,
     "metadata": {},
     "output_type": "execute_result"
    }
   ],
   "source": [
    "df.shape"
   ]
  },
  {
   "cell_type": "code",
   "execution_count": 4,
   "metadata": {},
   "outputs": [
    {
     "data": {
      "text/plain": [
       "(2957, 12)"
      ]
     },
     "execution_count": 4,
     "metadata": {},
     "output_type": "execute_result"
    }
   ],
   "source": [
    "df_temp.shape"
   ]
  },
  {
   "cell_type": "code",
   "execution_count": 5,
   "metadata": {},
   "outputs": [],
   "source": [
    "dikt={}\n",
    "for i in range(1,25):\n",
    "    sent=[]\n",
    "    if df.loc[df['Klinik_ID']==i]['Textuelle_Bewertung'] is not str('') and df.loc[df['Klinik_ID']==i]['Textuelle_Bewertung'] is not None:\n",
    "        for a in df.loc[df['Klinik_ID']==i]['Textuelle_Bewertung']:\n",
    "            blob = TextBlobDE(str(a))\n",
    "            x=blob.sentiment[0]\n",
    "            sent.append(x)\n",
    "    dikt[i] = sent"
   ]
  },
  {
   "cell_type": "markdown",
   "metadata": {},
   "source": [
    "#### Find Number of Comments as Positive Negative and Neutral According to Sentiment Analysis"
   ]
  },
  {
   "cell_type": "code",
   "execution_count": 7,
   "metadata": {},
   "outputs": [],
   "source": [
    "perc_dic = {}\n",
    "for key,values in dikt.items():\n",
    "    positive = 0\n",
    "    negative = 0\n",
    "    neutral = 0\n",
    "    for i in values:\n",
    "        if i>0:\n",
    "            positive+=1\n",
    "        elif i<0:\n",
    "            negative+=1\n",
    "        else:\n",
    "            neutral+=1\n",
    "    perc_dic[key]= [negative,neutral,positive]"
   ]
  },
  {
   "cell_type": "code",
   "execution_count": 8,
   "metadata": {},
   "outputs": [
    {
     "data": {
      "text/plain": [
       "{1: [4, 2, 17],\n",
       " 2: [6, 7, 57],\n",
       " 3: [15, 7, 96],\n",
       " 4: [36, 4, 45],\n",
       " 5: [38, 9, 157],\n",
       " 6: [44, 13, 118],\n",
       " 7: [22, 11, 131],\n",
       " 8: [39, 18, 188],\n",
       " 9: [16, 3, 58],\n",
       " 10: [23, 7, 69],\n",
       " 11: [9, 1, 40],\n",
       " 12: [12, 10, 58],\n",
       " 13: [86, 32, 344],\n",
       " 14: [3, 1, 5],\n",
       " 15: [49, 13, 137],\n",
       " 16: [20, 6, 97],\n",
       " 17: [30, 3, 89],\n",
       " 18: [12, 3, 42],\n",
       " 19: [14, 10, 181],\n",
       " 20: [37, 5, 73],\n",
       " 21: [23, 5, 80],\n",
       " 22: [43, 7, 88],\n",
       " 23: [1, 1, 41],\n",
       " 24: [12, 2, 20]}"
      ]
     },
     "execution_count": 8,
     "metadata": {},
     "output_type": "execute_result"
    }
   ],
   "source": [
    "perc_dic"
   ]
  },
  {
   "cell_type": "code",
   "execution_count": 19,
   "metadata": {},
   "outputs": [],
   "source": [
    "df_ff = pd.DataFrame.from_dict(perc_dic, orient='index', columns=['Negative', 'Neutral', 'Positive'])"
   ]
  },
  {
   "cell_type": "code",
   "execution_count": 22,
   "metadata": {},
   "outputs": [],
   "source": [
    "df_ff.reset_index(inplace=True)\n",
    "df_ff = df_ff.rename(columns = {'index':'Klinik_ID'})"
   ]
  },
  {
   "cell_type": "code",
   "execution_count": 26,
   "metadata": {},
   "outputs": [],
   "source": [
    "df_ff['Total_Comments'] = df_ff['Negative'] + df_ff['Neutral'] + df_ff['Positive']"
   ]
  },
  {
   "cell_type": "code",
   "execution_count": 27,
   "metadata": {},
   "outputs": [
    {
     "data": {
      "text/html": [
       "<div>\n",
       "<style scoped>\n",
       "    .dataframe tbody tr th:only-of-type {\n",
       "        vertical-align: middle;\n",
       "    }\n",
       "\n",
       "    .dataframe tbody tr th {\n",
       "        vertical-align: top;\n",
       "    }\n",
       "\n",
       "    .dataframe thead th {\n",
       "        text-align: right;\n",
       "    }\n",
       "</style>\n",
       "<table border=\"1\" class=\"dataframe\">\n",
       "  <thead>\n",
       "    <tr style=\"text-align: right;\">\n",
       "      <th></th>\n",
       "      <th>Klinik_ID</th>\n",
       "      <th>Negative</th>\n",
       "      <th>Neutral</th>\n",
       "      <th>Positive</th>\n",
       "      <th>Total_Comments</th>\n",
       "    </tr>\n",
       "  </thead>\n",
       "  <tbody>\n",
       "    <tr>\n",
       "      <th>0</th>\n",
       "      <td>1</td>\n",
       "      <td>4</td>\n",
       "      <td>2</td>\n",
       "      <td>17</td>\n",
       "      <td>23</td>\n",
       "    </tr>\n",
       "    <tr>\n",
       "      <th>1</th>\n",
       "      <td>2</td>\n",
       "      <td>6</td>\n",
       "      <td>7</td>\n",
       "      <td>57</td>\n",
       "      <td>70</td>\n",
       "    </tr>\n",
       "    <tr>\n",
       "      <th>2</th>\n",
       "      <td>3</td>\n",
       "      <td>15</td>\n",
       "      <td>7</td>\n",
       "      <td>96</td>\n",
       "      <td>118</td>\n",
       "    </tr>\n",
       "    <tr>\n",
       "      <th>3</th>\n",
       "      <td>4</td>\n",
       "      <td>36</td>\n",
       "      <td>4</td>\n",
       "      <td>45</td>\n",
       "      <td>85</td>\n",
       "    </tr>\n",
       "    <tr>\n",
       "      <th>4</th>\n",
       "      <td>5</td>\n",
       "      <td>38</td>\n",
       "      <td>9</td>\n",
       "      <td>157</td>\n",
       "      <td>204</td>\n",
       "    </tr>\n",
       "    <tr>\n",
       "      <th>5</th>\n",
       "      <td>6</td>\n",
       "      <td>44</td>\n",
       "      <td>13</td>\n",
       "      <td>118</td>\n",
       "      <td>175</td>\n",
       "    </tr>\n",
       "    <tr>\n",
       "      <th>6</th>\n",
       "      <td>7</td>\n",
       "      <td>22</td>\n",
       "      <td>11</td>\n",
       "      <td>131</td>\n",
       "      <td>164</td>\n",
       "    </tr>\n",
       "    <tr>\n",
       "      <th>7</th>\n",
       "      <td>8</td>\n",
       "      <td>39</td>\n",
       "      <td>18</td>\n",
       "      <td>188</td>\n",
       "      <td>245</td>\n",
       "    </tr>\n",
       "    <tr>\n",
       "      <th>8</th>\n",
       "      <td>9</td>\n",
       "      <td>16</td>\n",
       "      <td>3</td>\n",
       "      <td>58</td>\n",
       "      <td>77</td>\n",
       "    </tr>\n",
       "    <tr>\n",
       "      <th>9</th>\n",
       "      <td>10</td>\n",
       "      <td>23</td>\n",
       "      <td>7</td>\n",
       "      <td>69</td>\n",
       "      <td>99</td>\n",
       "    </tr>\n",
       "    <tr>\n",
       "      <th>10</th>\n",
       "      <td>11</td>\n",
       "      <td>9</td>\n",
       "      <td>1</td>\n",
       "      <td>40</td>\n",
       "      <td>50</td>\n",
       "    </tr>\n",
       "    <tr>\n",
       "      <th>11</th>\n",
       "      <td>12</td>\n",
       "      <td>12</td>\n",
       "      <td>10</td>\n",
       "      <td>58</td>\n",
       "      <td>80</td>\n",
       "    </tr>\n",
       "    <tr>\n",
       "      <th>12</th>\n",
       "      <td>13</td>\n",
       "      <td>86</td>\n",
       "      <td>32</td>\n",
       "      <td>344</td>\n",
       "      <td>462</td>\n",
       "    </tr>\n",
       "    <tr>\n",
       "      <th>13</th>\n",
       "      <td>14</td>\n",
       "      <td>3</td>\n",
       "      <td>1</td>\n",
       "      <td>5</td>\n",
       "      <td>9</td>\n",
       "    </tr>\n",
       "    <tr>\n",
       "      <th>14</th>\n",
       "      <td>15</td>\n",
       "      <td>49</td>\n",
       "      <td>13</td>\n",
       "      <td>137</td>\n",
       "      <td>199</td>\n",
       "    </tr>\n",
       "    <tr>\n",
       "      <th>15</th>\n",
       "      <td>16</td>\n",
       "      <td>20</td>\n",
       "      <td>6</td>\n",
       "      <td>97</td>\n",
       "      <td>123</td>\n",
       "    </tr>\n",
       "    <tr>\n",
       "      <th>16</th>\n",
       "      <td>17</td>\n",
       "      <td>30</td>\n",
       "      <td>3</td>\n",
       "      <td>89</td>\n",
       "      <td>122</td>\n",
       "    </tr>\n",
       "    <tr>\n",
       "      <th>17</th>\n",
       "      <td>18</td>\n",
       "      <td>12</td>\n",
       "      <td>3</td>\n",
       "      <td>42</td>\n",
       "      <td>57</td>\n",
       "    </tr>\n",
       "    <tr>\n",
       "      <th>18</th>\n",
       "      <td>19</td>\n",
       "      <td>14</td>\n",
       "      <td>10</td>\n",
       "      <td>181</td>\n",
       "      <td>205</td>\n",
       "    </tr>\n",
       "    <tr>\n",
       "      <th>19</th>\n",
       "      <td>20</td>\n",
       "      <td>37</td>\n",
       "      <td>5</td>\n",
       "      <td>73</td>\n",
       "      <td>115</td>\n",
       "    </tr>\n",
       "    <tr>\n",
       "      <th>20</th>\n",
       "      <td>21</td>\n",
       "      <td>23</td>\n",
       "      <td>5</td>\n",
       "      <td>80</td>\n",
       "      <td>108</td>\n",
       "    </tr>\n",
       "    <tr>\n",
       "      <th>21</th>\n",
       "      <td>22</td>\n",
       "      <td>43</td>\n",
       "      <td>7</td>\n",
       "      <td>88</td>\n",
       "      <td>138</td>\n",
       "    </tr>\n",
       "    <tr>\n",
       "      <th>22</th>\n",
       "      <td>23</td>\n",
       "      <td>1</td>\n",
       "      <td>1</td>\n",
       "      <td>41</td>\n",
       "      <td>43</td>\n",
       "    </tr>\n",
       "    <tr>\n",
       "      <th>23</th>\n",
       "      <td>24</td>\n",
       "      <td>12</td>\n",
       "      <td>2</td>\n",
       "      <td>20</td>\n",
       "      <td>34</td>\n",
       "    </tr>\n",
       "  </tbody>\n",
       "</table>\n",
       "</div>"
      ],
      "text/plain": [
       "    Klinik_ID  Negative  Neutral  Positive  Total_Comments\n",
       "0           1         4        2        17              23\n",
       "1           2         6        7        57              70\n",
       "2           3        15        7        96             118\n",
       "3           4        36        4        45              85\n",
       "4           5        38        9       157             204\n",
       "5           6        44       13       118             175\n",
       "6           7        22       11       131             164\n",
       "7           8        39       18       188             245\n",
       "8           9        16        3        58              77\n",
       "9          10        23        7        69              99\n",
       "10         11         9        1        40              50\n",
       "11         12        12       10        58              80\n",
       "12         13        86       32       344             462\n",
       "13         14         3        1         5               9\n",
       "14         15        49       13       137             199\n",
       "15         16        20        6        97             123\n",
       "16         17        30        3        89             122\n",
       "17         18        12        3        42              57\n",
       "18         19        14       10       181             205\n",
       "19         20        37        5        73             115\n",
       "20         21        23        5        80             108\n",
       "21         22        43        7        88             138\n",
       "22         23         1        1        41              43\n",
       "23         24        12        2        20              34"
      ]
     },
     "execution_count": 27,
     "metadata": {},
     "output_type": "execute_result"
    }
   ],
   "source": [
    "df_ff"
   ]
  },
  {
   "cell_type": "code",
   "execution_count": 28,
   "metadata": {},
   "outputs": [],
   "source": [
    "df_ff.to_json(r'number_of_comments_klinikumbew.json')"
   ]
  },
  {
   "cell_type": "markdown",
   "metadata": {},
   "source": [
    "#### Find All Sentiment Points"
   ]
  },
  {
   "cell_type": "code",
   "execution_count": 29,
   "metadata": {},
   "outputs": [],
   "source": [
    "new_dic = {}\n",
    "for key,values in dikt.items():\n",
    "    a = [(i * 3)+3 for i in values]\n",
    "    a =sum(a)/len(a)\n",
    "    new_dic[key]= a"
   ]
  },
  {
   "cell_type": "code",
   "execution_count": 30,
   "metadata": {},
   "outputs": [
    {
     "name": "stdout",
     "output_type": "stream",
     "text": [
      "(1, 3.769854914250509)\n",
      "(2, 4.03318790664223)\n",
      "(3, 4.026774198012573)\n",
      "(4, 2.958658118555725)\n",
      "(5, 3.599768693247385)\n",
      "(6, 3.426292142335731)\n",
      "(7, 3.9198181416361)\n",
      "(8, 4.013549641848268)\n",
      "(9, 3.768454765121107)\n",
      "(10, 3.7235265084949623)\n",
      "(11, 3.705837085328426)\n",
      "(12, 3.765730153093435)\n",
      "(13, 3.7478150689203)\n",
      "(14, 3.723382173382174)\n",
      "(15, 3.6460624063540013)\n",
      "(16, 3.8571494972944893)\n",
      "(17, 3.728154576711497)\n",
      "(18, 3.753037529439885)\n",
      "(19, 4.149366850608494)\n",
      "(20, 3.5224135495455333)\n",
      "(21, 3.593228901640802)\n",
      "(22, 3.529619093834468)\n",
      "(23, 4.219752039126544)\n",
      "(24, 3.4115988875977243)\n"
     ]
    }
   ],
   "source": [
    "for key in  new_dic.items():\n",
    "    print(key)"
   ]
  },
  {
   "cell_type": "code",
   "execution_count": 31,
   "metadata": {},
   "outputs": [],
   "source": [
    "def make_df_from_dic(dic, column_name):\n",
    "    return pd.DataFrame(list(dic.items()),columns = ['Klinik_ID',column_name]) "
   ]
  },
  {
   "cell_type": "code",
   "execution_count": 32,
   "metadata": {},
   "outputs": [],
   "source": [
    "df_kb = make_df_from_dic(new_dic,\"KB_Sentiment\")"
   ]
  },
  {
   "cell_type": "code",
   "execution_count": 34,
   "metadata": {},
   "outputs": [],
   "source": [
    "df_kb.to_json(r'klinikbewertung_sentiment.json')"
   ]
  },
  {
   "cell_type": "markdown",
   "metadata": {},
   "source": [
    "#### Sentiment Analysis GoogleMaps"
   ]
  },
  {
   "cell_type": "code",
   "execution_count": 35,
   "metadata": {},
   "outputs": [],
   "source": [
    "df_google = pd.read_csv('../csv/merged_all_google.csv')\n",
    "df_google.reset_index(drop=True, inplace=True)\n",
    "df_temp_google = df_google.dropna(subset=['Textuelle_Bewertung'], axis=0)"
   ]
  },
  {
   "cell_type": "code",
   "execution_count": null,
   "metadata": {},
   "outputs": [],
   "source": [
    "df_google.shape"
   ]
  },
  {
   "cell_type": "code",
   "execution_count": null,
   "metadata": {},
   "outputs": [],
   "source": [
    "df_temp_google.shape"
   ]
  },
  {
   "cell_type": "code",
   "execution_count": 36,
   "metadata": {},
   "outputs": [],
   "source": [
    "dikt={}\n",
    "for i in df_google['Klinik_ID'].unique():\n",
    "    sent=[]\n",
    "    if df_google.loc[df_google['Klinik_ID']==i]['Textuelle_Bewertung'] is not str(''):\n",
    "        for a in df_google.loc[df_google['Klinik_ID']==i]['Textuelle_Bewertung']:\n",
    "            blob = TextBlobDE(str(a))\n",
    "            x=blob.sentiment[0]\n",
    "            sent.append(x)\n",
    "    dikt[i]=sent"
   ]
  },
  {
   "cell_type": "code",
   "execution_count": 37,
   "metadata": {},
   "outputs": [],
   "source": [
    "perc_dic_g = {}\n",
    "\n",
    "for key,values in dikt.items():\n",
    "    positive = 0\n",
    "    negative = 0\n",
    "    neutral = 0\n",
    "    for i in values:\n",
    "        if i>0:\n",
    "            positive+=1\n",
    "        elif i<0:\n",
    "            negative+=1\n",
    "        else:\n",
    "            neutral+=1\n",
    "    perc_dic_g[key]= [negative,neutral,positive]"
   ]
  },
  {
   "cell_type": "code",
   "execution_count": 42,
   "metadata": {},
   "outputs": [],
   "source": [
    "df_gg = pd.DataFrame.from_dict(perc_dic_g, orient='index', columns=['Negative', 'Neutral', 'Positive'])\n",
    "df_gg.reset_index(inplace=True)\n",
    "df_gg = df_gg.rename(columns = {'index':'Klinik_ID'})\n",
    "df_gg=df_gg.sort_values(by='Klinik_ID', ascending=True)\n",
    "df_gg.reset_index(drop= True, inplace=True)"
   ]
  },
  {
   "cell_type": "code",
   "execution_count": 44,
   "metadata": {},
   "outputs": [],
   "source": [
    "df_gg['Total_Comments'] = df_gg['Negative'] + df_gg['Neutral'] + df_gg['Positive']"
   ]
  },
  {
   "cell_type": "code",
   "execution_count": 45,
   "metadata": {},
   "outputs": [
    {
     "data": {
      "text/html": [
       "<div>\n",
       "<style scoped>\n",
       "    .dataframe tbody tr th:only-of-type {\n",
       "        vertical-align: middle;\n",
       "    }\n",
       "\n",
       "    .dataframe tbody tr th {\n",
       "        vertical-align: top;\n",
       "    }\n",
       "\n",
       "    .dataframe thead th {\n",
       "        text-align: right;\n",
       "    }\n",
       "</style>\n",
       "<table border=\"1\" class=\"dataframe\">\n",
       "  <thead>\n",
       "    <tr style=\"text-align: right;\">\n",
       "      <th></th>\n",
       "      <th>Klinik_ID</th>\n",
       "      <th>Negative</th>\n",
       "      <th>Neutral</th>\n",
       "      <th>Positive</th>\n",
       "      <th>Total_Comments</th>\n",
       "    </tr>\n",
       "  </thead>\n",
       "  <tbody>\n",
       "    <tr>\n",
       "      <th>0</th>\n",
       "      <td>1</td>\n",
       "      <td>9</td>\n",
       "      <td>24</td>\n",
       "      <td>74</td>\n",
       "      <td>107</td>\n",
       "    </tr>\n",
       "    <tr>\n",
       "      <th>1</th>\n",
       "      <td>2</td>\n",
       "      <td>9</td>\n",
       "      <td>38</td>\n",
       "      <td>39</td>\n",
       "      <td>86</td>\n",
       "    </tr>\n",
       "    <tr>\n",
       "      <th>2</th>\n",
       "      <td>3</td>\n",
       "      <td>10</td>\n",
       "      <td>47</td>\n",
       "      <td>81</td>\n",
       "      <td>138</td>\n",
       "    </tr>\n",
       "    <tr>\n",
       "      <th>3</th>\n",
       "      <td>5</td>\n",
       "      <td>5</td>\n",
       "      <td>15</td>\n",
       "      <td>5</td>\n",
       "      <td>25</td>\n",
       "    </tr>\n",
       "    <tr>\n",
       "      <th>4</th>\n",
       "      <td>6</td>\n",
       "      <td>57</td>\n",
       "      <td>83</td>\n",
       "      <td>122</td>\n",
       "      <td>262</td>\n",
       "    </tr>\n",
       "    <tr>\n",
       "      <th>5</th>\n",
       "      <td>7</td>\n",
       "      <td>8</td>\n",
       "      <td>45</td>\n",
       "      <td>45</td>\n",
       "      <td>98</td>\n",
       "    </tr>\n",
       "    <tr>\n",
       "      <th>6</th>\n",
       "      <td>8</td>\n",
       "      <td>11</td>\n",
       "      <td>54</td>\n",
       "      <td>113</td>\n",
       "      <td>178</td>\n",
       "    </tr>\n",
       "    <tr>\n",
       "      <th>7</th>\n",
       "      <td>9</td>\n",
       "      <td>12</td>\n",
       "      <td>33</td>\n",
       "      <td>71</td>\n",
       "      <td>116</td>\n",
       "    </tr>\n",
       "    <tr>\n",
       "      <th>8</th>\n",
       "      <td>10</td>\n",
       "      <td>17</td>\n",
       "      <td>35</td>\n",
       "      <td>59</td>\n",
       "      <td>111</td>\n",
       "    </tr>\n",
       "    <tr>\n",
       "      <th>9</th>\n",
       "      <td>11</td>\n",
       "      <td>10</td>\n",
       "      <td>39</td>\n",
       "      <td>38</td>\n",
       "      <td>87</td>\n",
       "    </tr>\n",
       "    <tr>\n",
       "      <th>10</th>\n",
       "      <td>12</td>\n",
       "      <td>14</td>\n",
       "      <td>11</td>\n",
       "      <td>19</td>\n",
       "      <td>44</td>\n",
       "    </tr>\n",
       "    <tr>\n",
       "      <th>11</th>\n",
       "      <td>14</td>\n",
       "      <td>12</td>\n",
       "      <td>28</td>\n",
       "      <td>29</td>\n",
       "      <td>69</td>\n",
       "    </tr>\n",
       "    <tr>\n",
       "      <th>12</th>\n",
       "      <td>16</td>\n",
       "      <td>60</td>\n",
       "      <td>96</td>\n",
       "      <td>147</td>\n",
       "      <td>303</td>\n",
       "    </tr>\n",
       "    <tr>\n",
       "      <th>13</th>\n",
       "      <td>17</td>\n",
       "      <td>27</td>\n",
       "      <td>59</td>\n",
       "      <td>61</td>\n",
       "      <td>147</td>\n",
       "    </tr>\n",
       "    <tr>\n",
       "      <th>14</th>\n",
       "      <td>18</td>\n",
       "      <td>13</td>\n",
       "      <td>23</td>\n",
       "      <td>37</td>\n",
       "      <td>73</td>\n",
       "    </tr>\n",
       "    <tr>\n",
       "      <th>15</th>\n",
       "      <td>19</td>\n",
       "      <td>4</td>\n",
       "      <td>21</td>\n",
       "      <td>26</td>\n",
       "      <td>51</td>\n",
       "    </tr>\n",
       "    <tr>\n",
       "      <th>16</th>\n",
       "      <td>22</td>\n",
       "      <td>0</td>\n",
       "      <td>3</td>\n",
       "      <td>1</td>\n",
       "      <td>4</td>\n",
       "    </tr>\n",
       "    <tr>\n",
       "      <th>17</th>\n",
       "      <td>23</td>\n",
       "      <td>8</td>\n",
       "      <td>25</td>\n",
       "      <td>35</td>\n",
       "      <td>68</td>\n",
       "    </tr>\n",
       "    <tr>\n",
       "      <th>18</th>\n",
       "      <td>24</td>\n",
       "      <td>15</td>\n",
       "      <td>24</td>\n",
       "      <td>28</td>\n",
       "      <td>67</td>\n",
       "    </tr>\n",
       "  </tbody>\n",
       "</table>\n",
       "</div>"
      ],
      "text/plain": [
       "    Klinik_ID  Negative  Neutral  Positive  Total_Comments\n",
       "0           1         9       24        74             107\n",
       "1           2         9       38        39              86\n",
       "2           3        10       47        81             138\n",
       "3           5         5       15         5              25\n",
       "4           6        57       83       122             262\n",
       "5           7         8       45        45              98\n",
       "6           8        11       54       113             178\n",
       "7           9        12       33        71             116\n",
       "8          10        17       35        59             111\n",
       "9          11        10       39        38              87\n",
       "10         12        14       11        19              44\n",
       "11         14        12       28        29              69\n",
       "12         16        60       96       147             303\n",
       "13         17        27       59        61             147\n",
       "14         18        13       23        37              73\n",
       "15         19         4       21        26              51\n",
       "16         22         0        3         1               4\n",
       "17         23         8       25        35              68\n",
       "18         24        15       24        28              67"
      ]
     },
     "execution_count": 45,
     "metadata": {},
     "output_type": "execute_result"
    }
   ],
   "source": [
    "df_gg"
   ]
  },
  {
   "cell_type": "code",
   "execution_count": 47,
   "metadata": {},
   "outputs": [],
   "source": [
    "df_gg.to_json(r'number_of_comments_google.json')"
   ]
  },
  {
   "cell_type": "code",
   "execution_count": 45,
   "metadata": {},
   "outputs": [],
   "source": [
    "new_dic = {}\n",
    "for key,values in dikt.items():\n",
    "    a = [(i * 2)+3 for i in values]\n",
    "    a =sum(a)/len(a)\n",
    "    new_dic[key]= a"
   ]
  },
  {
   "cell_type": "code",
   "execution_count": 46,
   "metadata": {},
   "outputs": [
    {
     "name": "stdout",
     "output_type": "stream",
     "text": [
      "(16, 3.3549393454463945)\n",
      "(14, 3.362184064031305)\n",
      "(7, 3.4695969903112753)\n",
      "(5, 3.003333333333333)\n",
      "(1, 3.7875176696711463)\n",
      "(8, 3.677269160302868)\n",
      "(6, 3.331101208922248)\n",
      "(17, 3.2618898230570266)\n",
      "(3, 3.653802709878824)\n",
      "(19, 3.556171802054155)\n",
      "(12, 3.2244919266857677)\n",
      "(2, 3.363152684510748)\n",
      "(24, 3.2137446011699744)\n",
      "(23, 3.5749299719887953)\n",
      "(10, 3.395229473387367)\n",
      "(11, 3.329167935609157)\n",
      "(22, 3.0839285714285714)\n",
      "(18, 3.4017968257009352)\n",
      "(9, 3.574532320846976)\n"
     ]
    }
   ],
   "source": [
    "for key in new_dic.items():\n",
    "    print(key)"
   ]
  },
  {
   "cell_type": "markdown",
   "metadata": {},
   "source": [
    "#### Gesamtsterne Mean of GoogleMaps"
   ]
  },
  {
   "cell_type": "code",
   "execution_count": 49,
   "metadata": {},
   "outputs": [
    {
     "name": "stdout",
     "output_type": "stream",
     "text": [
      "(16, 3.0396039603960396)\n",
      "(14, 2.681159420289855)\n",
      "(7, 3.795918367346939)\n",
      "(5, 3.56)\n",
      "(1, 4.289719626168225)\n",
      "(8, 4.140449438202247)\n",
      "(6, 3.133587786259542)\n",
      "(17, 2.8979591836734695)\n",
      "(3, 4.2101449275362315)\n",
      "(19, 3.9607843137254903)\n",
      "(12, 2.727272727272727)\n",
      "(2, 3.86046511627907)\n",
      "(24, 2.462686567164179)\n",
      "(23, 3.426470588235294)\n",
      "(10, 3.2072072072072073)\n",
      "(11, 3.2528735632183907)\n",
      "(22, 3.0)\n",
      "(18, 3.232876712328767)\n",
      "(9, 3.8793103448275863)\n"
     ]
    }
   ],
   "source": [
    "mean_all_comments = {}\n",
    "for i in df_google['Klinik_ID'].unique():\n",
    "    a=0\n",
    "    count=0\n",
    "    for k in df_google.loc[df_google['Klinik_ID']==i]['Sternebewertung']:\n",
    "        a=a+int(k.strip(\" Stern\"))\n",
    "        count=count+1\n",
    "        mean = a/count\n",
    "    mean_all_comments[i] = mean\n",
    "for i in mean_all_comments.items():\n",
    "    print(i)"
   ]
  },
  {
   "cell_type": "markdown",
   "metadata": {},
   "source": [
    "#### mean_only_with_comments "
   ]
  },
  {
   "cell_type": "code",
   "execution_count": 41,
   "metadata": {},
   "outputs": [
    {
     "name": "stdout",
     "output_type": "stream",
     "text": [
      "(16, 3.0815450643776825)\n",
      "(14, 2.5510204081632653)\n",
      "(7, 3.640625)\n",
      "(5, 3.25)\n",
      "(1, 4.290322580645161)\n",
      "(8, 4.176470588235294)\n",
      "(6, 2.9504950495049505)\n",
      "(17, 2.8411214953271027)\n",
      "(3, 4.212121212121212)\n",
      "(19, 4.0606060606060606)\n",
      "(12, 2.638888888888889)\n",
      "(2, 3.6666666666666665)\n",
      "(24, 2.5)\n",
      "(23, 3.64)\n",
      "(10, 3.142857142857143)\n",
      "(11, 3.210526315789474)\n",
      "(22, 3.0)\n",
      "(18, 3.2962962962962963)\n",
      "(9, 3.8)\n"
     ]
    }
   ],
   "source": [
    "mean_only_with_comments = {}\n",
    "for i in df_temp_google['Klinik_ID'].unique():\n",
    "    a=0\n",
    "    count=0\n",
    "    for k in df_temp_google.loc[df_temp_google['Klinik_ID']==i]['Sternebewertung']:\n",
    "        a=a+int(k.strip(\" Stern\"))\n",
    "        count=count+1\n",
    "        mean = a/count\n",
    "    mean_only_with_comments[i] = mean\n",
    "for i in mean_only_with_comments.items():\n",
    "    print(i)"
   ]
  },
  {
   "cell_type": "markdown",
   "metadata": {},
   "source": [
    "#### Merge All Gesamtsterne Means in a Dataframe"
   ]
  },
  {
   "cell_type": "code",
   "execution_count": 82,
   "metadata": {},
   "outputs": [],
   "source": [
    "def make_df_from_dic(dic, column_name):\n",
    "    return pd.DataFrame(list(dic.items()),columns = ['Klinik_ID',column_name]) "
   ]
  },
  {
   "cell_type": "code",
   "execution_count": 83,
   "metadata": {},
   "outputs": [],
   "source": [
    "df_different = make_df_from_dic(new_dic,\"Sentiment\")"
   ]
  },
  {
   "cell_type": "code",
   "execution_count": 84,
   "metadata": {},
   "outputs": [],
   "source": [
    "df_mean_withnull = make_df_from_dic(mean_all_comments,\"GesamtsterneWithNull\")"
   ]
  },
  {
   "cell_type": "code",
   "execution_count": 85,
   "metadata": {},
   "outputs": [],
   "source": [
    "df_mean_withoutnull = make_df_from_dic(mean_only_with_comments,\"GesamtsterneWithoutNull\")"
   ]
  },
  {
   "cell_type": "code",
   "execution_count": 94,
   "metadata": {},
   "outputs": [],
   "source": [
    "df_merge_2 = pd.concat([df_different.set_index('Klinik_ID'),df_mean_withnull.set_index('Klinik_ID'), df_mean_withoutnull.set_index('Klinik_ID')], axis=1, join='inner').sort_values('Klinik_ID', ascending = True).reset_index()"
   ]
  },
  {
   "cell_type": "raw",
   "metadata": {},
   "source": [
    "df_merge = df_different.merge(df_mean_withnull, on='Klinik_ID', how='inner')"
   ]
  },
  {
   "cell_type": "code",
   "execution_count": 106,
   "metadata": {},
   "outputs": [],
   "source": [
    "result_list = []\n",
    "for x,y in zip(df_merge_2[\"Sentiment\"], df_merge_2[\"GesamtsterneWithoutNull\"]):\n",
    "    result = x/y\n",
    "    if result >1:\n",
    "        result = 1/result   \n",
    "    result_list.append(((result)*100))\n",
    "df_merge_2[\"Accuracy\"] =  result_list   "
   ]
  },
  {
   "cell_type": "code",
   "execution_count": 108,
   "metadata": {},
   "outputs": [
    {
     "data": {
      "text/html": [
       "<div>\n",
       "<style scoped>\n",
       "    .dataframe tbody tr th:only-of-type {\n",
       "        vertical-align: middle;\n",
       "    }\n",
       "\n",
       "    .dataframe tbody tr th {\n",
       "        vertical-align: top;\n",
       "    }\n",
       "\n",
       "    .dataframe thead th {\n",
       "        text-align: right;\n",
       "    }\n",
       "</style>\n",
       "<table border=\"1\" class=\"dataframe\">\n",
       "  <thead>\n",
       "    <tr style=\"text-align: right;\">\n",
       "      <th></th>\n",
       "      <th>Klinik_ID</th>\n",
       "      <th>Sentiment</th>\n",
       "      <th>GesamtsterneWithNull</th>\n",
       "      <th>GesamtsterneWithoutNull</th>\n",
       "      <th>Accuracy</th>\n",
       "    </tr>\n",
       "  </thead>\n",
       "  <tbody>\n",
       "    <tr>\n",
       "      <th>0</th>\n",
       "      <td>1</td>\n",
       "      <td>3.79</td>\n",
       "      <td>4.29</td>\n",
       "      <td>4.29</td>\n",
       "      <td>88.28</td>\n",
       "    </tr>\n",
       "    <tr>\n",
       "      <th>1</th>\n",
       "      <td>2</td>\n",
       "      <td>3.36</td>\n",
       "      <td>3.86</td>\n",
       "      <td>3.67</td>\n",
       "      <td>91.72</td>\n",
       "    </tr>\n",
       "    <tr>\n",
       "      <th>2</th>\n",
       "      <td>3</td>\n",
       "      <td>3.65</td>\n",
       "      <td>4.21</td>\n",
       "      <td>4.21</td>\n",
       "      <td>86.74</td>\n",
       "    </tr>\n",
       "    <tr>\n",
       "      <th>3</th>\n",
       "      <td>5</td>\n",
       "      <td>3.00</td>\n",
       "      <td>3.56</td>\n",
       "      <td>3.25</td>\n",
       "      <td>92.41</td>\n",
       "    </tr>\n",
       "    <tr>\n",
       "      <th>4</th>\n",
       "      <td>6</td>\n",
       "      <td>3.33</td>\n",
       "      <td>3.13</td>\n",
       "      <td>2.95</td>\n",
       "      <td>88.57</td>\n",
       "    </tr>\n",
       "    <tr>\n",
       "      <th>5</th>\n",
       "      <td>7</td>\n",
       "      <td>3.47</td>\n",
       "      <td>3.80</td>\n",
       "      <td>3.64</td>\n",
       "      <td>95.30</td>\n",
       "    </tr>\n",
       "    <tr>\n",
       "      <th>6</th>\n",
       "      <td>8</td>\n",
       "      <td>3.68</td>\n",
       "      <td>4.14</td>\n",
       "      <td>4.18</td>\n",
       "      <td>88.05</td>\n",
       "    </tr>\n",
       "    <tr>\n",
       "      <th>7</th>\n",
       "      <td>9</td>\n",
       "      <td>3.57</td>\n",
       "      <td>3.88</td>\n",
       "      <td>3.80</td>\n",
       "      <td>94.07</td>\n",
       "    </tr>\n",
       "    <tr>\n",
       "      <th>8</th>\n",
       "      <td>10</td>\n",
       "      <td>3.40</td>\n",
       "      <td>3.21</td>\n",
       "      <td>3.14</td>\n",
       "      <td>92.57</td>\n",
       "    </tr>\n",
       "    <tr>\n",
       "      <th>9</th>\n",
       "      <td>11</td>\n",
       "      <td>3.33</td>\n",
       "      <td>3.25</td>\n",
       "      <td>3.21</td>\n",
       "      <td>96.44</td>\n",
       "    </tr>\n",
       "    <tr>\n",
       "      <th>10</th>\n",
       "      <td>12</td>\n",
       "      <td>3.22</td>\n",
       "      <td>2.73</td>\n",
       "      <td>2.64</td>\n",
       "      <td>81.84</td>\n",
       "    </tr>\n",
       "    <tr>\n",
       "      <th>11</th>\n",
       "      <td>14</td>\n",
       "      <td>3.36</td>\n",
       "      <td>2.68</td>\n",
       "      <td>2.55</td>\n",
       "      <td>75.87</td>\n",
       "    </tr>\n",
       "    <tr>\n",
       "      <th>12</th>\n",
       "      <td>16</td>\n",
       "      <td>3.35</td>\n",
       "      <td>3.04</td>\n",
       "      <td>3.08</td>\n",
       "      <td>91.85</td>\n",
       "    </tr>\n",
       "    <tr>\n",
       "      <th>13</th>\n",
       "      <td>17</td>\n",
       "      <td>3.26</td>\n",
       "      <td>2.90</td>\n",
       "      <td>2.84</td>\n",
       "      <td>87.10</td>\n",
       "    </tr>\n",
       "    <tr>\n",
       "      <th>14</th>\n",
       "      <td>18</td>\n",
       "      <td>3.40</td>\n",
       "      <td>3.23</td>\n",
       "      <td>3.30</td>\n",
       "      <td>96.90</td>\n",
       "    </tr>\n",
       "    <tr>\n",
       "      <th>15</th>\n",
       "      <td>19</td>\n",
       "      <td>3.56</td>\n",
       "      <td>3.96</td>\n",
       "      <td>4.06</td>\n",
       "      <td>87.58</td>\n",
       "    </tr>\n",
       "    <tr>\n",
       "      <th>16</th>\n",
       "      <td>22</td>\n",
       "      <td>3.08</td>\n",
       "      <td>3.00</td>\n",
       "      <td>3.00</td>\n",
       "      <td>97.28</td>\n",
       "    </tr>\n",
       "    <tr>\n",
       "      <th>17</th>\n",
       "      <td>23</td>\n",
       "      <td>3.57</td>\n",
       "      <td>3.43</td>\n",
       "      <td>3.64</td>\n",
       "      <td>98.21</td>\n",
       "    </tr>\n",
       "    <tr>\n",
       "      <th>18</th>\n",
       "      <td>24</td>\n",
       "      <td>3.21</td>\n",
       "      <td>2.46</td>\n",
       "      <td>2.50</td>\n",
       "      <td>77.79</td>\n",
       "    </tr>\n",
       "  </tbody>\n",
       "</table>\n",
       "</div>"
      ],
      "text/plain": [
       "    Klinik_ID  Sentiment  GesamtsterneWithNull  GesamtsterneWithoutNull  \\\n",
       "0           1       3.79                  4.29                     4.29   \n",
       "1           2       3.36                  3.86                     3.67   \n",
       "2           3       3.65                  4.21                     4.21   \n",
       "3           5       3.00                  3.56                     3.25   \n",
       "4           6       3.33                  3.13                     2.95   \n",
       "5           7       3.47                  3.80                     3.64   \n",
       "6           8       3.68                  4.14                     4.18   \n",
       "7           9       3.57                  3.88                     3.80   \n",
       "8          10       3.40                  3.21                     3.14   \n",
       "9          11       3.33                  3.25                     3.21   \n",
       "10         12       3.22                  2.73                     2.64   \n",
       "11         14       3.36                  2.68                     2.55   \n",
       "12         16       3.35                  3.04                     3.08   \n",
       "13         17       3.26                  2.90                     2.84   \n",
       "14         18       3.40                  3.23                     3.30   \n",
       "15         19       3.56                  3.96                     4.06   \n",
       "16         22       3.08                  3.00                     3.00   \n",
       "17         23       3.57                  3.43                     3.64   \n",
       "18         24       3.21                  2.46                     2.50   \n",
       "\n",
       "    Accuracy  \n",
       "0      88.28  \n",
       "1      91.72  \n",
       "2      86.74  \n",
       "3      92.41  \n",
       "4      88.57  \n",
       "5      95.30  \n",
       "6      88.05  \n",
       "7      94.07  \n",
       "8      92.57  \n",
       "9      96.44  \n",
       "10     81.84  \n",
       "11     75.87  \n",
       "12     91.85  \n",
       "13     87.10  \n",
       "14     96.90  \n",
       "15     87.58  \n",
       "16     97.28  \n",
       "17     98.21  \n",
       "18     77.79  "
      ]
     },
     "execution_count": 108,
     "metadata": {},
     "output_type": "execute_result"
    }
   ],
   "source": [
    "df_merge_2[\"Sentiment\"] = df_merge_2[\"Sentiment\"].round(2)\n",
    "df_merge_2[\"GesamtsterneWithNull\"] = df_merge_2[\"GesamtsterneWithNull\"].round(2)\n",
    "df_merge_2[\"GesamtsterneWithoutNull\"] = df_merge_2[\"GesamtsterneWithoutNull\"].round(2)\n",
    "df_merge_2[\"Accuracy\"] = df_merge_2[\"Accuracy\"].round(2)\n",
    "df_merge_2"
   ]
  },
  {
   "cell_type": "markdown",
   "metadata": {},
   "source": [
    "#### All Analysis from Df to Json to be used in WEB"
   ]
  },
  {
   "cell_type": "code",
   "execution_count": 109,
   "metadata": {},
   "outputs": [],
   "source": [
    "df_merge_2.to_json(r'sentiment_comments_google.json')"
   ]
  },
  {
   "cell_type": "code",
   "execution_count": null,
   "metadata": {},
   "outputs": [],
   "source": []
  }
 ],
 "metadata": {
  "kernelspec": {
   "display_name": "Python 3",
   "language": "python",
   "name": "python3"
  },
  "language_info": {
   "codemirror_mode": {
    "name": "ipython",
    "version": 3
   },
   "file_extension": ".py",
   "mimetype": "text/x-python",
   "name": "python",
   "nbconvert_exporter": "python",
   "pygments_lexer": "ipython3",
   "version": "3.8.5"
  }
 },
 "nbformat": 4,
 "nbformat_minor": 4
}
